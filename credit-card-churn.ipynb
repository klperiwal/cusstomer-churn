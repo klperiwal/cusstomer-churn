{
 "cells": [
  {
   "cell_type": "code",
   "execution_count": 15,
   "metadata": {},
   "outputs": [],
   "source": [
    "import numpy as np\n",
    "import pandas as pd\n",
    "import matplotlib.pyplot as plt\n",
    "import seaborn as sns"
   ]
  },
  {
   "cell_type": "code",
   "execution_count": 16,
   "metadata": {},
   "outputs": [
    {
     "data": {
      "text/html": [
       "<div>\n",
       "<style scoped>\n",
       "    .dataframe tbody tr th:only-of-type {\n",
       "        vertical-align: middle;\n",
       "    }\n",
       "\n",
       "    .dataframe tbody tr th {\n",
       "        vertical-align: top;\n",
       "    }\n",
       "\n",
       "    .dataframe thead th {\n",
       "        text-align: right;\n",
       "    }\n",
       "</style>\n",
       "<table border=\"1\" class=\"dataframe\">\n",
       "  <thead>\n",
       "    <tr style=\"text-align: right;\">\n",
       "      <th></th>\n",
       "      <th>RowNumber</th>\n",
       "      <th>CustomerId</th>\n",
       "      <th>Surname</th>\n",
       "      <th>CreditScore</th>\n",
       "      <th>Geography</th>\n",
       "      <th>Gender</th>\n",
       "      <th>Age</th>\n",
       "      <th>Tenure</th>\n",
       "      <th>Balance</th>\n",
       "      <th>NumOfProducts</th>\n",
       "      <th>HasCrCard</th>\n",
       "      <th>IsActiveMember</th>\n",
       "      <th>EstimatedSalary</th>\n",
       "      <th>Exited</th>\n",
       "    </tr>\n",
       "  </thead>\n",
       "  <tbody>\n",
       "    <tr>\n",
       "      <th>0</th>\n",
       "      <td>1</td>\n",
       "      <td>15634602</td>\n",
       "      <td>Hargrave</td>\n",
       "      <td>619</td>\n",
       "      <td>France</td>\n",
       "      <td>Female</td>\n",
       "      <td>42</td>\n",
       "      <td>2</td>\n",
       "      <td>0.00</td>\n",
       "      <td>1</td>\n",
       "      <td>1</td>\n",
       "      <td>1</td>\n",
       "      <td>101348.88</td>\n",
       "      <td>1</td>\n",
       "    </tr>\n",
       "    <tr>\n",
       "      <th>1</th>\n",
       "      <td>2</td>\n",
       "      <td>15647311</td>\n",
       "      <td>Hill</td>\n",
       "      <td>608</td>\n",
       "      <td>Spain</td>\n",
       "      <td>Female</td>\n",
       "      <td>41</td>\n",
       "      <td>1</td>\n",
       "      <td>83807.86</td>\n",
       "      <td>1</td>\n",
       "      <td>0</td>\n",
       "      <td>1</td>\n",
       "      <td>112542.58</td>\n",
       "      <td>0</td>\n",
       "    </tr>\n",
       "    <tr>\n",
       "      <th>2</th>\n",
       "      <td>3</td>\n",
       "      <td>15619304</td>\n",
       "      <td>Onio</td>\n",
       "      <td>502</td>\n",
       "      <td>France</td>\n",
       "      <td>Female</td>\n",
       "      <td>42</td>\n",
       "      <td>8</td>\n",
       "      <td>159660.80</td>\n",
       "      <td>3</td>\n",
       "      <td>1</td>\n",
       "      <td>0</td>\n",
       "      <td>113931.57</td>\n",
       "      <td>1</td>\n",
       "    </tr>\n",
       "    <tr>\n",
       "      <th>3</th>\n",
       "      <td>4</td>\n",
       "      <td>15701354</td>\n",
       "      <td>Boni</td>\n",
       "      <td>699</td>\n",
       "      <td>France</td>\n",
       "      <td>Female</td>\n",
       "      <td>39</td>\n",
       "      <td>1</td>\n",
       "      <td>0.00</td>\n",
       "      <td>2</td>\n",
       "      <td>0</td>\n",
       "      <td>0</td>\n",
       "      <td>93826.63</td>\n",
       "      <td>0</td>\n",
       "    </tr>\n",
       "    <tr>\n",
       "      <th>4</th>\n",
       "      <td>5</td>\n",
       "      <td>15737888</td>\n",
       "      <td>Mitchell</td>\n",
       "      <td>850</td>\n",
       "      <td>Spain</td>\n",
       "      <td>Female</td>\n",
       "      <td>43</td>\n",
       "      <td>2</td>\n",
       "      <td>125510.82</td>\n",
       "      <td>1</td>\n",
       "      <td>1</td>\n",
       "      <td>1</td>\n",
       "      <td>79084.10</td>\n",
       "      <td>0</td>\n",
       "    </tr>\n",
       "  </tbody>\n",
       "</table>\n",
       "</div>"
      ],
      "text/plain": [
       "   RowNumber  CustomerId   Surname  CreditScore Geography  Gender  Age   \n",
       "0          1    15634602  Hargrave          619    France  Female   42  \\\n",
       "1          2    15647311      Hill          608     Spain  Female   41   \n",
       "2          3    15619304      Onio          502    France  Female   42   \n",
       "3          4    15701354      Boni          699    France  Female   39   \n",
       "4          5    15737888  Mitchell          850     Spain  Female   43   \n",
       "\n",
       "   Tenure    Balance  NumOfProducts  HasCrCard  IsActiveMember   \n",
       "0       2       0.00              1          1               1  \\\n",
       "1       1   83807.86              1          0               1   \n",
       "2       8  159660.80              3          1               0   \n",
       "3       1       0.00              2          0               0   \n",
       "4       2  125510.82              1          1               1   \n",
       "\n",
       "   EstimatedSalary  Exited  \n",
       "0        101348.88       1  \n",
       "1        112542.58       0  \n",
       "2        113931.57       1  \n",
       "3         93826.63       0  \n",
       "4         79084.10       0  "
      ]
     },
     "execution_count": 16,
     "metadata": {},
     "output_type": "execute_result"
    }
   ],
   "source": [
    "df=pd.read_csv('Churn_Modelling.csv')\n",
    "df.head()"
   ]
  },
  {
   "cell_type": "code",
   "execution_count": 17,
   "metadata": {},
   "outputs": [
    {
     "name": "stdout",
     "output_type": "stream",
     "text": [
      "<class 'pandas.core.frame.DataFrame'>\n",
      "RangeIndex: 10000 entries, 0 to 9999\n",
      "Data columns (total 14 columns):\n",
      " #   Column           Non-Null Count  Dtype  \n",
      "---  ------           --------------  -----  \n",
      " 0   RowNumber        10000 non-null  int64  \n",
      " 1   CustomerId       10000 non-null  int64  \n",
      " 2   Surname          10000 non-null  object \n",
      " 3   CreditScore      10000 non-null  int64  \n",
      " 4   Geography        10000 non-null  object \n",
      " 5   Gender           10000 non-null  object \n",
      " 6   Age              10000 non-null  int64  \n",
      " 7   Tenure           10000 non-null  int64  \n",
      " 8   Balance          10000 non-null  float64\n",
      " 9   NumOfProducts    10000 non-null  int64  \n",
      " 10  HasCrCard        10000 non-null  int64  \n",
      " 11  IsActiveMember   10000 non-null  int64  \n",
      " 12  EstimatedSalary  10000 non-null  float64\n",
      " 13  Exited           10000 non-null  int64  \n",
      "dtypes: float64(2), int64(9), object(3)\n",
      "memory usage: 1.1+ MB\n"
     ]
    }
   ],
   "source": [
    "df.info()"
   ]
  },
  {
   "cell_type": "code",
   "execution_count": 18,
   "metadata": {},
   "outputs": [
    {
     "data": {
      "text/html": [
       "<div>\n",
       "<style scoped>\n",
       "    .dataframe tbody tr th:only-of-type {\n",
       "        vertical-align: middle;\n",
       "    }\n",
       "\n",
       "    .dataframe tbody tr th {\n",
       "        vertical-align: top;\n",
       "    }\n",
       "\n",
       "    .dataframe thead th {\n",
       "        text-align: right;\n",
       "    }\n",
       "</style>\n",
       "<table border=\"1\" class=\"dataframe\">\n",
       "  <thead>\n",
       "    <tr style=\"text-align: right;\">\n",
       "      <th></th>\n",
       "      <th>RowNumber</th>\n",
       "      <th>CustomerId</th>\n",
       "      <th>Surname</th>\n",
       "      <th>CreditScore</th>\n",
       "      <th>Geography</th>\n",
       "      <th>Gender</th>\n",
       "      <th>Age</th>\n",
       "      <th>Tenure</th>\n",
       "      <th>Balance</th>\n",
       "      <th>NumOfProducts</th>\n",
       "      <th>HasCrCard</th>\n",
       "      <th>IsActiveMember</th>\n",
       "      <th>EstimatedSalary</th>\n",
       "      <th>Exited</th>\n",
       "    </tr>\n",
       "  </thead>\n",
       "  <tbody>\n",
       "    <tr>\n",
       "      <th>0</th>\n",
       "      <td>1</td>\n",
       "      <td>15634602</td>\n",
       "      <td>Hargrave</td>\n",
       "      <td>619</td>\n",
       "      <td>France</td>\n",
       "      <td>Female</td>\n",
       "      <td>42</td>\n",
       "      <td>2</td>\n",
       "      <td>0.00</td>\n",
       "      <td>1</td>\n",
       "      <td>1</td>\n",
       "      <td>1</td>\n",
       "      <td>101348.88</td>\n",
       "      <td>1</td>\n",
       "    </tr>\n",
       "    <tr>\n",
       "      <th>1</th>\n",
       "      <td>2</td>\n",
       "      <td>15647311</td>\n",
       "      <td>Hill</td>\n",
       "      <td>608</td>\n",
       "      <td>Spain</td>\n",
       "      <td>Female</td>\n",
       "      <td>41</td>\n",
       "      <td>1</td>\n",
       "      <td>83807.86</td>\n",
       "      <td>1</td>\n",
       "      <td>0</td>\n",
       "      <td>1</td>\n",
       "      <td>112542.58</td>\n",
       "      <td>0</td>\n",
       "    </tr>\n",
       "    <tr>\n",
       "      <th>2</th>\n",
       "      <td>3</td>\n",
       "      <td>15619304</td>\n",
       "      <td>Onio</td>\n",
       "      <td>502</td>\n",
       "      <td>France</td>\n",
       "      <td>Female</td>\n",
       "      <td>42</td>\n",
       "      <td>8</td>\n",
       "      <td>159660.80</td>\n",
       "      <td>3</td>\n",
       "      <td>1</td>\n",
       "      <td>0</td>\n",
       "      <td>113931.57</td>\n",
       "      <td>1</td>\n",
       "    </tr>\n",
       "    <tr>\n",
       "      <th>3</th>\n",
       "      <td>4</td>\n",
       "      <td>15701354</td>\n",
       "      <td>Boni</td>\n",
       "      <td>699</td>\n",
       "      <td>France</td>\n",
       "      <td>Female</td>\n",
       "      <td>39</td>\n",
       "      <td>1</td>\n",
       "      <td>0.00</td>\n",
       "      <td>2</td>\n",
       "      <td>0</td>\n",
       "      <td>0</td>\n",
       "      <td>93826.63</td>\n",
       "      <td>0</td>\n",
       "    </tr>\n",
       "    <tr>\n",
       "      <th>4</th>\n",
       "      <td>5</td>\n",
       "      <td>15737888</td>\n",
       "      <td>Mitchell</td>\n",
       "      <td>850</td>\n",
       "      <td>Spain</td>\n",
       "      <td>Female</td>\n",
       "      <td>43</td>\n",
       "      <td>2</td>\n",
       "      <td>125510.82</td>\n",
       "      <td>1</td>\n",
       "      <td>1</td>\n",
       "      <td>1</td>\n",
       "      <td>79084.10</td>\n",
       "      <td>0</td>\n",
       "    </tr>\n",
       "    <tr>\n",
       "      <th>...</th>\n",
       "      <td>...</td>\n",
       "      <td>...</td>\n",
       "      <td>...</td>\n",
       "      <td>...</td>\n",
       "      <td>...</td>\n",
       "      <td>...</td>\n",
       "      <td>...</td>\n",
       "      <td>...</td>\n",
       "      <td>...</td>\n",
       "      <td>...</td>\n",
       "      <td>...</td>\n",
       "      <td>...</td>\n",
       "      <td>...</td>\n",
       "      <td>...</td>\n",
       "    </tr>\n",
       "    <tr>\n",
       "      <th>9995</th>\n",
       "      <td>9996</td>\n",
       "      <td>15606229</td>\n",
       "      <td>Obijiaku</td>\n",
       "      <td>771</td>\n",
       "      <td>France</td>\n",
       "      <td>Male</td>\n",
       "      <td>39</td>\n",
       "      <td>5</td>\n",
       "      <td>0.00</td>\n",
       "      <td>2</td>\n",
       "      <td>1</td>\n",
       "      <td>0</td>\n",
       "      <td>96270.64</td>\n",
       "      <td>0</td>\n",
       "    </tr>\n",
       "    <tr>\n",
       "      <th>9996</th>\n",
       "      <td>9997</td>\n",
       "      <td>15569892</td>\n",
       "      <td>Johnstone</td>\n",
       "      <td>516</td>\n",
       "      <td>France</td>\n",
       "      <td>Male</td>\n",
       "      <td>35</td>\n",
       "      <td>10</td>\n",
       "      <td>57369.61</td>\n",
       "      <td>1</td>\n",
       "      <td>1</td>\n",
       "      <td>1</td>\n",
       "      <td>101699.77</td>\n",
       "      <td>0</td>\n",
       "    </tr>\n",
       "    <tr>\n",
       "      <th>9997</th>\n",
       "      <td>9998</td>\n",
       "      <td>15584532</td>\n",
       "      <td>Liu</td>\n",
       "      <td>709</td>\n",
       "      <td>France</td>\n",
       "      <td>Female</td>\n",
       "      <td>36</td>\n",
       "      <td>7</td>\n",
       "      <td>0.00</td>\n",
       "      <td>1</td>\n",
       "      <td>0</td>\n",
       "      <td>1</td>\n",
       "      <td>42085.58</td>\n",
       "      <td>1</td>\n",
       "    </tr>\n",
       "    <tr>\n",
       "      <th>9998</th>\n",
       "      <td>9999</td>\n",
       "      <td>15682355</td>\n",
       "      <td>Sabbatini</td>\n",
       "      <td>772</td>\n",
       "      <td>Germany</td>\n",
       "      <td>Male</td>\n",
       "      <td>42</td>\n",
       "      <td>3</td>\n",
       "      <td>75075.31</td>\n",
       "      <td>2</td>\n",
       "      <td>1</td>\n",
       "      <td>0</td>\n",
       "      <td>92888.52</td>\n",
       "      <td>1</td>\n",
       "    </tr>\n",
       "    <tr>\n",
       "      <th>9999</th>\n",
       "      <td>10000</td>\n",
       "      <td>15628319</td>\n",
       "      <td>Walker</td>\n",
       "      <td>792</td>\n",
       "      <td>France</td>\n",
       "      <td>Female</td>\n",
       "      <td>28</td>\n",
       "      <td>4</td>\n",
       "      <td>130142.79</td>\n",
       "      <td>1</td>\n",
       "      <td>1</td>\n",
       "      <td>0</td>\n",
       "      <td>38190.78</td>\n",
       "      <td>0</td>\n",
       "    </tr>\n",
       "  </tbody>\n",
       "</table>\n",
       "<p>10000 rows × 14 columns</p>\n",
       "</div>"
      ],
      "text/plain": [
       "      RowNumber  CustomerId    Surname  CreditScore Geography  Gender  Age   \n",
       "0             1    15634602   Hargrave          619    France  Female   42  \\\n",
       "1             2    15647311       Hill          608     Spain  Female   41   \n",
       "2             3    15619304       Onio          502    France  Female   42   \n",
       "3             4    15701354       Boni          699    France  Female   39   \n",
       "4             5    15737888   Mitchell          850     Spain  Female   43   \n",
       "...         ...         ...        ...          ...       ...     ...  ...   \n",
       "9995       9996    15606229   Obijiaku          771    France    Male   39   \n",
       "9996       9997    15569892  Johnstone          516    France    Male   35   \n",
       "9997       9998    15584532        Liu          709    France  Female   36   \n",
       "9998       9999    15682355  Sabbatini          772   Germany    Male   42   \n",
       "9999      10000    15628319     Walker          792    France  Female   28   \n",
       "\n",
       "      Tenure    Balance  NumOfProducts  HasCrCard  IsActiveMember   \n",
       "0          2       0.00              1          1               1  \\\n",
       "1          1   83807.86              1          0               1   \n",
       "2          8  159660.80              3          1               0   \n",
       "3          1       0.00              2          0               0   \n",
       "4          2  125510.82              1          1               1   \n",
       "...      ...        ...            ...        ...             ...   \n",
       "9995       5       0.00              2          1               0   \n",
       "9996      10   57369.61              1          1               1   \n",
       "9997       7       0.00              1          0               1   \n",
       "9998       3   75075.31              2          1               0   \n",
       "9999       4  130142.79              1          1               0   \n",
       "\n",
       "      EstimatedSalary  Exited  \n",
       "0           101348.88       1  \n",
       "1           112542.58       0  \n",
       "2           113931.57       1  \n",
       "3            93826.63       0  \n",
       "4            79084.10       0  \n",
       "...               ...     ...  \n",
       "9995         96270.64       0  \n",
       "9996        101699.77       0  \n",
       "9997         42085.58       1  \n",
       "9998         92888.52       1  \n",
       "9999         38190.78       0  \n",
       "\n",
       "[10000 rows x 14 columns]"
      ]
     },
     "execution_count": 18,
     "metadata": {},
     "output_type": "execute_result"
    }
   ],
   "source": [
    "df.drop_duplicates()"
   ]
  },
  {
   "cell_type": "code",
   "execution_count": 19,
   "metadata": {},
   "outputs": [
    {
     "name": "stdout",
     "output_type": "stream",
     "text": [
      "Total:  10000\n"
     ]
    },
    {
     "data": {
      "text/plain": [
       "Exited\n",
       "0    7963\n",
       "1    2037\n",
       "Name: count, dtype: int64"
      ]
     },
     "execution_count": 19,
     "metadata": {},
     "output_type": "execute_result"
    }
   ],
   "source": [
    "print(\"Total: \" ,df['Exited'].count())\n",
    "df['Exited'].value_counts()"
   ]
  },
  {
   "cell_type": "code",
   "execution_count": 20,
   "metadata": {},
   "outputs": [],
   "source": [
    "X= df.iloc[:,3:13]\n",
    "Y= df.iloc[:,13]"
   ]
  },
  {
   "cell_type": "code",
   "execution_count": 34,
   "metadata": {},
   "outputs": [],
   "source": [
    "#One-Hat Encoding\n",
    "temp=pd.get_dummies(X[['Geography','Gender']],drop_first=True)"
   ]
  },
  {
   "cell_type": "code",
   "execution_count": 36,
   "metadata": {},
   "outputs": [],
   "source": [
    "X.drop(['Geography','Gender'],axis=1,inplace=True)"
   ]
  },
  {
   "cell_type": "code",
   "execution_count": 41,
   "metadata": {},
   "outputs": [],
   "source": [
    "# Concatenating with orignal dataset\n",
    "X=pd.concat([X,temp],axis=1)"
   ]
  },
  {
   "cell_type": "code",
   "execution_count": 42,
   "metadata": {},
   "outputs": [],
   "source": [
    "from sklearn.model_selection import train_test_split\n",
    "from sklearn.preprocessing import StandardScaler\n",
    "\n",
    "X_train,X_test,Y_train,Y_test= train_test_split(X,Y,train_size=0.2, random_state=0)"
   ]
  },
  {
   "cell_type": "code",
   "execution_count": 47,
   "metadata": {},
   "outputs": [
    {
     "data": {
      "text/html": [
       "<div>\n",
       "<style scoped>\n",
       "    .dataframe tbody tr th:only-of-type {\n",
       "        vertical-align: middle;\n",
       "    }\n",
       "\n",
       "    .dataframe tbody tr th {\n",
       "        vertical-align: top;\n",
       "    }\n",
       "\n",
       "    .dataframe thead th {\n",
       "        text-align: right;\n",
       "    }\n",
       "</style>\n",
       "<table border=\"1\" class=\"dataframe\">\n",
       "  <thead>\n",
       "    <tr style=\"text-align: right;\">\n",
       "      <th></th>\n",
       "      <th>CreditScore</th>\n",
       "      <th>Age</th>\n",
       "      <th>Tenure</th>\n",
       "      <th>Balance</th>\n",
       "      <th>NumOfProducts</th>\n",
       "      <th>HasCrCard</th>\n",
       "      <th>IsActiveMember</th>\n",
       "      <th>EstimatedSalary</th>\n",
       "      <th>Geography_Germany</th>\n",
       "      <th>Geography_Spain</th>\n",
       "      <th>Gender_Male</th>\n",
       "    </tr>\n",
       "  </thead>\n",
       "  <tbody>\n",
       "    <tr>\n",
       "      <th>3477</th>\n",
       "      <td>623</td>\n",
       "      <td>40</td>\n",
       "      <td>7</td>\n",
       "      <td>0.00</td>\n",
       "      <td>1</td>\n",
       "      <td>1</td>\n",
       "      <td>1</td>\n",
       "      <td>25904.12</td>\n",
       "      <td>False</td>\n",
       "      <td>True</td>\n",
       "      <td>False</td>\n",
       "    </tr>\n",
       "    <tr>\n",
       "      <th>9567</th>\n",
       "      <td>724</td>\n",
       "      <td>29</td>\n",
       "      <td>4</td>\n",
       "      <td>0.00</td>\n",
       "      <td>1</td>\n",
       "      <td>1</td>\n",
       "      <td>0</td>\n",
       "      <td>8982.75</td>\n",
       "      <td>False</td>\n",
       "      <td>False</td>\n",
       "      <td>True</td>\n",
       "    </tr>\n",
       "    <tr>\n",
       "      <th>8284</th>\n",
       "      <td>711</td>\n",
       "      <td>39</td>\n",
       "      <td>3</td>\n",
       "      <td>152462.79</td>\n",
       "      <td>1</td>\n",
       "      <td>1</td>\n",
       "      <td>0</td>\n",
       "      <td>90305.97</td>\n",
       "      <td>False</td>\n",
       "      <td>False</td>\n",
       "      <td>False</td>\n",
       "    </tr>\n",
       "    <tr>\n",
       "      <th>3129</th>\n",
       "      <td>631</td>\n",
       "      <td>37</td>\n",
       "      <td>9</td>\n",
       "      <td>131519.49</td>\n",
       "      <td>2</td>\n",
       "      <td>1</td>\n",
       "      <td>1</td>\n",
       "      <td>51752.18</td>\n",
       "      <td>True</td>\n",
       "      <td>False</td>\n",
       "      <td>True</td>\n",
       "    </tr>\n",
       "    <tr>\n",
       "      <th>8427</th>\n",
       "      <td>753</td>\n",
       "      <td>40</td>\n",
       "      <td>0</td>\n",
       "      <td>3768.69</td>\n",
       "      <td>2</td>\n",
       "      <td>1</td>\n",
       "      <td>0</td>\n",
       "      <td>177065.24</td>\n",
       "      <td>False</td>\n",
       "      <td>False</td>\n",
       "      <td>False</td>\n",
       "    </tr>\n",
       "    <tr>\n",
       "      <th>...</th>\n",
       "      <td>...</td>\n",
       "      <td>...</td>\n",
       "      <td>...</td>\n",
       "      <td>...</td>\n",
       "      <td>...</td>\n",
       "      <td>...</td>\n",
       "      <td>...</td>\n",
       "      <td>...</td>\n",
       "      <td>...</td>\n",
       "      <td>...</td>\n",
       "      <td>...</td>\n",
       "    </tr>\n",
       "    <tr>\n",
       "      <th>9225</th>\n",
       "      <td>594</td>\n",
       "      <td>32</td>\n",
       "      <td>4</td>\n",
       "      <td>120074.97</td>\n",
       "      <td>2</td>\n",
       "      <td>1</td>\n",
       "      <td>1</td>\n",
       "      <td>162961.79</td>\n",
       "      <td>True</td>\n",
       "      <td>False</td>\n",
       "      <td>False</td>\n",
       "    </tr>\n",
       "    <tr>\n",
       "      <th>4859</th>\n",
       "      <td>794</td>\n",
       "      <td>22</td>\n",
       "      <td>4</td>\n",
       "      <td>114440.24</td>\n",
       "      <td>1</td>\n",
       "      <td>1</td>\n",
       "      <td>1</td>\n",
       "      <td>107753.07</td>\n",
       "      <td>False</td>\n",
       "      <td>True</td>\n",
       "      <td>False</td>\n",
       "    </tr>\n",
       "    <tr>\n",
       "      <th>3264</th>\n",
       "      <td>738</td>\n",
       "      <td>35</td>\n",
       "      <td>5</td>\n",
       "      <td>161274.05</td>\n",
       "      <td>2</td>\n",
       "      <td>1</td>\n",
       "      <td>0</td>\n",
       "      <td>181429.87</td>\n",
       "      <td>False</td>\n",
       "      <td>False</td>\n",
       "      <td>True</td>\n",
       "    </tr>\n",
       "    <tr>\n",
       "      <th>9845</th>\n",
       "      <td>590</td>\n",
       "      <td>38</td>\n",
       "      <td>9</td>\n",
       "      <td>0.00</td>\n",
       "      <td>2</td>\n",
       "      <td>1</td>\n",
       "      <td>1</td>\n",
       "      <td>148750.16</td>\n",
       "      <td>False</td>\n",
       "      <td>True</td>\n",
       "      <td>False</td>\n",
       "    </tr>\n",
       "    <tr>\n",
       "      <th>2732</th>\n",
       "      <td>623</td>\n",
       "      <td>48</td>\n",
       "      <td>1</td>\n",
       "      <td>108076.33</td>\n",
       "      <td>1</td>\n",
       "      <td>1</td>\n",
       "      <td>0</td>\n",
       "      <td>118855.26</td>\n",
       "      <td>True</td>\n",
       "      <td>False</td>\n",
       "      <td>False</td>\n",
       "    </tr>\n",
       "  </tbody>\n",
       "</table>\n",
       "<p>2000 rows × 11 columns</p>\n",
       "</div>"
      ],
      "text/plain": [
       "      CreditScore  Age  Tenure    Balance  NumOfProducts  HasCrCard   \n",
       "3477          623   40       7       0.00              1          1  \\\n",
       "9567          724   29       4       0.00              1          1   \n",
       "8284          711   39       3  152462.79              1          1   \n",
       "3129          631   37       9  131519.49              2          1   \n",
       "8427          753   40       0    3768.69              2          1   \n",
       "...           ...  ...     ...        ...            ...        ...   \n",
       "9225          594   32       4  120074.97              2          1   \n",
       "4859          794   22       4  114440.24              1          1   \n",
       "3264          738   35       5  161274.05              2          1   \n",
       "9845          590   38       9       0.00              2          1   \n",
       "2732          623   48       1  108076.33              1          1   \n",
       "\n",
       "      IsActiveMember  EstimatedSalary  Geography_Germany  Geography_Spain   \n",
       "3477               1         25904.12              False             True  \\\n",
       "9567               0          8982.75              False            False   \n",
       "8284               0         90305.97              False            False   \n",
       "3129               1         51752.18               True            False   \n",
       "8427               0        177065.24              False            False   \n",
       "...              ...              ...                ...              ...   \n",
       "9225               1        162961.79               True            False   \n",
       "4859               1        107753.07              False             True   \n",
       "3264               0        181429.87              False            False   \n",
       "9845               1        148750.16              False             True   \n",
       "2732               0        118855.26               True            False   \n",
       "\n",
       "      Gender_Male  \n",
       "3477        False  \n",
       "9567         True  \n",
       "8284        False  \n",
       "3129         True  \n",
       "8427        False  \n",
       "...           ...  \n",
       "9225        False  \n",
       "4859        False  \n",
       "3264         True  \n",
       "9845        False  \n",
       "2732        False  \n",
       "\n",
       "[2000 rows x 11 columns]"
      ]
     },
     "execution_count": 47,
     "metadata": {},
     "output_type": "execute_result"
    }
   ],
   "source": [
    "X_train"
   ]
  },
  {
   "cell_type": "code",
   "execution_count": 48,
   "metadata": {},
   "outputs": [],
   "source": [
    "X_train.fillna(0, inplace=True)"
   ]
  },
  {
   "cell_type": "code",
   "execution_count": 49,
   "metadata": {},
   "outputs": [],
   "source": [
    "#Feature Scaling\n",
    "scaler=StandardScaler()\n",
    "X_train_trf=scaler.fit_transform(X_train)\n",
    "X_test_trf=scaler.transform(X_test)"
   ]
  },
  {
   "cell_type": "code",
   "execution_count": 51,
   "metadata": {},
   "outputs": [
    {
     "data": {
      "text/plain": [
       "array([[-0.32530497,  0.12352963,  0.67535045, ..., -0.56657212,\n",
       "         1.71830416, -1.08456377],\n",
       "       [ 0.71071446, -0.93639701, -0.35571894, ..., -0.56657212,\n",
       "        -0.58196914,  0.9220297 ],\n",
       "       [ 0.57736542,  0.02717266, -0.69940874, ..., -0.56657212,\n",
       "        -0.58196914, -1.08456377],\n",
       "       ...,\n",
       "       [ 0.85432111, -0.35825521, -0.01202914, ..., -0.56657212,\n",
       "        -0.58196914,  0.9220297 ],\n",
       "       [-0.66380637, -0.0691843 ,  1.36273004, ..., -0.56657212,\n",
       "         1.71830416, -1.08456377],\n",
       "       [-0.32530497,  0.89438537, -1.38678833, ...,  1.76500038,\n",
       "        -0.58196914, -1.08456377]])"
      ]
     },
     "execution_count": 51,
     "metadata": {},
     "output_type": "execute_result"
    }
   ],
   "source": [
    "X_train_trf"
   ]
  },
  {
   "cell_type": "code",
   "execution_count": 52,
   "metadata": {},
   "outputs": [
    {
     "data": {
      "text/plain": [
       "array([[-0.59200304, -0.35825521,  1.01904025, ...,  1.76500038,\n",
       "        -0.58196914, -1.08456377],\n",
       "       [-1.35106678,  0.12352963, -1.04309853, ..., -0.56657212,\n",
       "        -0.58196914, -1.08456377],\n",
       "       [ 0.52607733,  0.31624357,  1.01904025, ..., -0.56657212,\n",
       "         1.71830416, -1.08456377],\n",
       "       ...,\n",
       "       [-2.40760144, -0.74368308, -1.38678833, ...,  1.76500038,\n",
       "        -0.58196914, -1.08456377],\n",
       "       [-1.14591442,  0.2198866 , -0.35571894, ..., -0.56657212,\n",
       "         1.71830416, -1.08456377],\n",
       "       [ 1.33642916, -0.26189824, -1.04309853, ...,  1.76500038,\n",
       "        -0.58196914, -1.08456377]])"
      ]
     },
     "execution_count": 52,
     "metadata": {},
     "output_type": "execute_result"
    }
   ],
   "source": [
    "X_test_trf"
   ]
  },
  {
   "cell_type": "code",
   "execution_count": null,
   "metadata": {},
   "outputs": [
    {
     "name": "stdout",
     "output_type": "stream",
     "text": [
      "X_train shape: (2000, 11)\n",
      "X_test shape: (8000, 11)\n"
     ]
    }
   ],
   "source": [
    "print(\"X_train shape:\", X_train.shape)\n",
    "print(\"X_test shape:\", X_test.shape)"
   ]
  },
  {
   "cell_type": "markdown",
   "metadata": {},
   "source": [
    "Creating ANN Model"
   ]
  },
  {
   "cell_type": "code",
   "execution_count": 54,
   "metadata": {},
   "outputs": [],
   "source": [
    "import tensorflow\n",
    "from tensorflow import keras\n",
    "from tensorflow.keras.models import Sequential \n",
    "from tensorflow.keras.layers import Dense\n",
    "from tensorflow.keras.layers import LeakyReLU,ReLU,PReLU\n",
    "from tensorflow.keras.layers import Dropout\n"
   ]
  },
  {
   "cell_type": "code",
   "execution_count": 56,
   "metadata": {},
   "outputs": [
    {
     "name": "stdout",
     "output_type": "stream",
     "text": [
      "WARNING:tensorflow:From c:\\Users\\klper\\AppData\\Local\\Programs\\Python\\Python310\\lib\\site-packages\\keras\\src\\backend.py:873: The name tf.get_default_graph is deprecated. Please use tf.compat.v1.get_default_graph instead.\n",
      "\n"
     ]
    }
   ],
   "source": [
    "#Sequential model\n",
    "model= Sequential()"
   ]
  },
  {
   "cell_type": "code",
   "execution_count": 59,
   "metadata": {},
   "outputs": [],
   "source": [
    "# Adding the input Layer\n",
    "model.add(Dense(3,activation='relu',input_dim=11))\n",
    "\n",
    "#Adding Hidden Layer\n",
    "model.add(Dense(units=7,activation='relu'))\n",
    "model.add(Dense(units=6,activation='relu'))\n",
    "\n",
    "#Adding the Output Layer\n",
    "model.add(Dense(1,activation='sigmoid'))\n"
   ]
  },
  {
   "cell_type": "code",
   "execution_count": 61,
   "metadata": {},
   "outputs": [
    {
     "name": "stdout",
     "output_type": "stream",
     "text": [
      "Model: \"sequential\"\n",
      "_________________________________________________________________\n",
      " Layer (type)                Output Shape              Param #   \n",
      "=================================================================\n",
      " dense (Dense)               (None, 3)                 36        \n",
      "                                                                 \n",
      " dense_1 (Dense)             (None, 7)                 28        \n",
      "                                                                 \n",
      " dense_2 (Dense)             (None, 6)                 48        \n",
      "                                                                 \n",
      " dense_3 (Dense)             (None, 3)                 21        \n",
      "                                                                 \n",
      " dense_4 (Dense)             (None, 7)                 28        \n",
      "                                                                 \n",
      " dense_5 (Dense)             (None, 6)                 48        \n",
      "                                                                 \n",
      " dense_6 (Dense)             (None, 3)                 21        \n",
      "                                                                 \n",
      " dense_7 (Dense)             (None, 7)                 28        \n",
      "                                                                 \n",
      " dense_8 (Dense)             (None, 6)                 48        \n",
      "                                                                 \n",
      " dense_9 (Dense)             (None, 1)                 7         \n",
      "                                                                 \n",
      "=================================================================\n",
      "Total params: 313 (1.22 KB)\n",
      "Trainable params: 313 (1.22 KB)\n",
      "Non-trainable params: 0 (0.00 Byte)\n",
      "_________________________________________________________________\n"
     ]
    }
   ],
   "source": [
    "model.summary()"
   ]
  },
  {
   "cell_type": "code",
   "execution_count": 63,
   "metadata": {},
   "outputs": [],
   "source": [
    "model.compile(loss='binary_crossentropy',optimizer='Adam',metrics=['accuracy'])"
   ]
  },
  {
   "cell_type": "code",
   "execution_count": 66,
   "metadata": {},
   "outputs": [],
   "source": [
    "opt= tensorflow.keras.optimizers.Adam(learning_rate=0.01)"
   ]
  },
  {
   "cell_type": "code",
   "execution_count": 67,
   "metadata": {},
   "outputs": [
    {
     "name": "stdout",
     "output_type": "stream",
     "text": [
      "Epoch 1/15\n",
      "42/42 [==============================] - 0s 5ms/step - loss: 0.4383 - accuracy: 0.7961 - val_loss: 0.4500 - val_accuracy: 0.8064\n",
      "Epoch 2/15\n",
      "42/42 [==============================] - 0s 5ms/step - loss: 0.4376 - accuracy: 0.7939 - val_loss: 0.4495 - val_accuracy: 0.8018\n",
      "Epoch 3/15\n",
      "42/42 [==============================] - 0s 5ms/step - loss: 0.4378 - accuracy: 0.8043 - val_loss: 0.4493 - val_accuracy: 0.8018\n",
      "Epoch 4/15\n",
      "42/42 [==============================] - 0s 5ms/step - loss: 0.4366 - accuracy: 0.8013 - val_loss: 0.4496 - val_accuracy: 0.8018\n",
      "Epoch 5/15\n",
      "42/42 [==============================] - 0s 5ms/step - loss: 0.4370 - accuracy: 0.7984 - val_loss: 0.4498 - val_accuracy: 0.8003\n",
      "Epoch 6/15\n",
      "42/42 [==============================] - 0s 5ms/step - loss: 0.4370 - accuracy: 0.8036 - val_loss: 0.4493 - val_accuracy: 0.8064\n",
      "Epoch 7/15\n",
      "42/42 [==============================] - 0s 4ms/step - loss: 0.4366 - accuracy: 0.7984 - val_loss: 0.4494 - val_accuracy: 0.8003\n",
      "Epoch 8/15\n",
      "42/42 [==============================] - 0s 4ms/step - loss: 0.4360 - accuracy: 0.8088 - val_loss: 0.4492 - val_accuracy: 0.8018\n",
      "Epoch 9/15\n",
      "42/42 [==============================] - 0s 4ms/step - loss: 0.4372 - accuracy: 0.8028 - val_loss: 0.4501 - val_accuracy: 0.8003\n",
      "Epoch 10/15\n",
      "42/42 [==============================] - 0s 4ms/step - loss: 0.4364 - accuracy: 0.8058 - val_loss: 0.4489 - val_accuracy: 0.8003\n",
      "Epoch 11/15\n",
      "42/42 [==============================] - 0s 4ms/step - loss: 0.4362 - accuracy: 0.8051 - val_loss: 0.4494 - val_accuracy: 0.8018\n",
      "Epoch 12/15\n",
      "42/42 [==============================] - 0s 4ms/step - loss: 0.4354 - accuracy: 0.8066 - val_loss: 0.4486 - val_accuracy: 0.8033\n",
      "Epoch 13/15\n",
      "42/42 [==============================] - 0s 3ms/step - loss: 0.4354 - accuracy: 0.8066 - val_loss: 0.4495 - val_accuracy: 0.8018\n",
      "Epoch 14/15\n",
      "42/42 [==============================] - 0s 3ms/step - loss: 0.4344 - accuracy: 0.8058 - val_loss: 0.4496 - val_accuracy: 0.8003\n",
      "Epoch 15/15\n",
      "42/42 [==============================] - 0s 3ms/step - loss: 0.4351 - accuracy: 0.8096 - val_loss: 0.4489 - val_accuracy: 0.8018\n"
     ]
    }
   ],
   "source": [
    "history= model.fit(X_train_trf,Y_train,epochs=15,validation_split=0.33)"
   ]
  },
  {
   "cell_type": "markdown",
   "metadata": {},
   "source": [
    "Note that the accuracy is not increasing. It is just revolving around the same values.\n",
    "So, we can apply Early Stopping, to prevent unnecessary calculations."
   ]
  },
  {
   "cell_type": "code",
   "execution_count": 88,
   "metadata": {},
   "outputs": [],
   "source": [
    "# Early Stopping\n",
    "\n",
    "import tensorflow as tf\n",
    "early_stopping= tf.keras.callbacks. EarlyStopping(\n",
    "monitor=\"val_loss\",\n",
    "min_delta=0.001,\n",
    "patience=30,\n",
    "verbose=1,\n",
    "mode=\"auto\",\n",
    "baseline=None,\n",
    "restore_best_weights=False,\n",
    ")"
   ]
  },
  {
   "cell_type": "code",
   "execution_count": 89,
   "metadata": {},
   "outputs": [
    {
     "name": "stdout",
     "output_type": "stream",
     "text": [
      "Epoch 1/1000\n",
      "42/42 [==============================] - 0s 5ms/step - loss: 0.4320 - accuracy: 0.8073 - val_loss: 0.4505 - val_accuracy: 0.8003\n",
      "Epoch 2/1000\n",
      "42/42 [==============================] - 0s 5ms/step - loss: 0.4311 - accuracy: 0.8066 - val_loss: 0.4501 - val_accuracy: 0.7973\n",
      "Epoch 3/1000\n",
      "42/42 [==============================] - 0s 4ms/step - loss: 0.4322 - accuracy: 0.8073 - val_loss: 0.4500 - val_accuracy: 0.7988\n",
      "Epoch 4/1000\n",
      "42/42 [==============================] - 0s 5ms/step - loss: 0.4315 - accuracy: 0.8066 - val_loss: 0.4500 - val_accuracy: 0.7988\n",
      "Epoch 5/1000\n",
      "42/42 [==============================] - 0s 5ms/step - loss: 0.4317 - accuracy: 0.8096 - val_loss: 0.4499 - val_accuracy: 0.7988\n",
      "Epoch 6/1000\n",
      "42/42 [==============================] - 0s 6ms/step - loss: 0.4313 - accuracy: 0.8058 - val_loss: 0.4500 - val_accuracy: 0.7988\n",
      "Epoch 7/1000\n",
      "42/42 [==============================] - 0s 5ms/step - loss: 0.4341 - accuracy: 0.8073 - val_loss: 0.4516 - val_accuracy: 0.7988\n",
      "Epoch 8/1000\n",
      "42/42 [==============================] - 0s 5ms/step - loss: 0.4317 - accuracy: 0.8096 - val_loss: 0.4510 - val_accuracy: 0.8003\n",
      "Epoch 9/1000\n",
      "42/42 [==============================] - 0s 5ms/step - loss: 0.4308 - accuracy: 0.8066 - val_loss: 0.4499 - val_accuracy: 0.7988\n",
      "Epoch 10/1000\n",
      "42/42 [==============================] - 0s 4ms/step - loss: 0.4319 - accuracy: 0.8066 - val_loss: 0.4509 - val_accuracy: 0.7958\n",
      "Epoch 11/1000\n",
      "42/42 [==============================] - 0s 5ms/step - loss: 0.4310 - accuracy: 0.8088 - val_loss: 0.4500 - val_accuracy: 0.7973\n",
      "Epoch 12/1000\n",
      "42/42 [==============================] - 0s 4ms/step - loss: 0.4314 - accuracy: 0.8081 - val_loss: 0.4510 - val_accuracy: 0.7988\n",
      "Epoch 13/1000\n",
      "42/42 [==============================] - 0s 5ms/step - loss: 0.4310 - accuracy: 0.8088 - val_loss: 0.4504 - val_accuracy: 0.8003\n",
      "Epoch 14/1000\n",
      "42/42 [==============================] - 0s 4ms/step - loss: 0.4312 - accuracy: 0.8066 - val_loss: 0.4501 - val_accuracy: 0.7958\n",
      "Epoch 15/1000\n",
      "42/42 [==============================] - 0s 5ms/step - loss: 0.4311 - accuracy: 0.8111 - val_loss: 0.4507 - val_accuracy: 0.7973\n",
      "Epoch 16/1000\n",
      "42/42 [==============================] - 0s 4ms/step - loss: 0.4312 - accuracy: 0.8058 - val_loss: 0.4504 - val_accuracy: 0.7958\n",
      "Epoch 17/1000\n",
      "42/42 [==============================] - 0s 4ms/step - loss: 0.4302 - accuracy: 0.8088 - val_loss: 0.4512 - val_accuracy: 0.7973\n",
      "Epoch 18/1000\n",
      "42/42 [==============================] - 0s 4ms/step - loss: 0.4299 - accuracy: 0.8066 - val_loss: 0.4510 - val_accuracy: 0.7927\n",
      "Epoch 19/1000\n",
      "42/42 [==============================] - 0s 4ms/step - loss: 0.4309 - accuracy: 0.8066 - val_loss: 0.4511 - val_accuracy: 0.7958\n",
      "Epoch 20/1000\n",
      "42/42 [==============================] - 0s 4ms/step - loss: 0.4300 - accuracy: 0.8066 - val_loss: 0.4509 - val_accuracy: 0.7958\n",
      "Epoch 21/1000\n",
      "42/42 [==============================] - 0s 5ms/step - loss: 0.4299 - accuracy: 0.8073 - val_loss: 0.4516 - val_accuracy: 0.7973\n",
      "Epoch 22/1000\n",
      "42/42 [==============================] - 0s 4ms/step - loss: 0.4314 - accuracy: 0.8058 - val_loss: 0.4521 - val_accuracy: 0.7973\n",
      "Epoch 23/1000\n",
      "42/42 [==============================] - 0s 5ms/step - loss: 0.4307 - accuracy: 0.8118 - val_loss: 0.4528 - val_accuracy: 0.7973\n",
      "Epoch 24/1000\n",
      "42/42 [==============================] - 0s 4ms/step - loss: 0.4296 - accuracy: 0.8096 - val_loss: 0.4506 - val_accuracy: 0.7867\n",
      "Epoch 25/1000\n",
      "42/42 [==============================] - 0s 5ms/step - loss: 0.4296 - accuracy: 0.8103 - val_loss: 0.4513 - val_accuracy: 0.7852\n",
      "Epoch 26/1000\n",
      "42/42 [==============================] - 0s 5ms/step - loss: 0.4299 - accuracy: 0.8066 - val_loss: 0.4507 - val_accuracy: 0.7852\n",
      "Epoch 27/1000\n",
      "42/42 [==============================] - 0s 5ms/step - loss: 0.4296 - accuracy: 0.8096 - val_loss: 0.4525 - val_accuracy: 0.7852\n",
      "Epoch 28/1000\n",
      "42/42 [==============================] - 0s 4ms/step - loss: 0.4309 - accuracy: 0.8096 - val_loss: 0.4525 - val_accuracy: 0.7927\n",
      "Epoch 29/1000\n",
      "42/42 [==============================] - 0s 4ms/step - loss: 0.4288 - accuracy: 0.8066 - val_loss: 0.4514 - val_accuracy: 0.7882\n",
      "Epoch 30/1000\n",
      "42/42 [==============================] - 0s 4ms/step - loss: 0.4287 - accuracy: 0.8066 - val_loss: 0.4522 - val_accuracy: 0.7837\n",
      "Epoch 31/1000\n",
      "42/42 [==============================] - 0s 5ms/step - loss: 0.4285 - accuracy: 0.8103 - val_loss: 0.4514 - val_accuracy: 0.7852\n",
      "Epoch 31: early stopping\n"
     ]
    }
   ],
   "source": [
    "history= model.fit(X_train_trf,Y_train,epochs=1000,validation_split=0.33,callbacks=early_stopping)"
   ]
  },
  {
   "cell_type": "code",
   "execution_count": 90,
   "metadata": {},
   "outputs": [
    {
     "data": {
      "text/plain": [
       "[array([[-0.56035656, -0.47807994,  0.05959398],\n",
       "        [ 0.52308726, -1.2256575 ,  0.48305002],\n",
       "        [ 0.15257321, -0.12321659,  0.6077699 ],\n",
       "        [-0.698703  , -0.66533816, -0.6801679 ],\n",
       "        [ 0.40510157, -0.09202872,  0.33500823],\n",
       "        [ 0.14770307,  0.10120899, -0.30918995],\n",
       "        [-0.68378484,  0.18267462,  0.29291   ],\n",
       "        [-0.49130106, -0.37075502,  0.3061672 ],\n",
       "        [ 0.15478994, -0.00238666, -0.18513489],\n",
       "        [-0.20249647, -0.5308101 ,  0.66906774],\n",
       "        [-0.10194997,  0.10390279,  0.34541214]], dtype=float32),\n",
       " array([0.23407021, 0.1405772 , 0.33175835], dtype=float32)]"
      ]
     },
     "execution_count": 90,
     "metadata": {},
     "output_type": "execute_result"
    }
   ],
   "source": [
    "model.layers[0].get_weights()"
   ]
  },
  {
   "cell_type": "code",
   "execution_count": 91,
   "metadata": {},
   "outputs": [
    {
     "data": {
      "text/plain": [
       "[array([[ 0.5639415 ,  0.05657397, -0.5431061 ,  0.2756312 ,  0.21790542,\n",
       "          0.7647748 , -0.07024145],\n",
       "        [ 0.42546165,  0.7411743 ,  0.87592363,  0.5035633 ,  0.54735976,\n",
       "         -0.80166173, -0.29933462],\n",
       "        [ 0.20477553,  0.3811651 ,  0.04090596, -0.6300356 , -0.14799906,\n",
       "         -0.513555  , -0.6277409 ]], dtype=float32),\n",
       " array([ 0.00955522,  0.11801852,  0.13762566, -0.05690571,  0.11123677,\n",
       "         0.13943951,  0.        ], dtype=float32)]"
      ]
     },
     "execution_count": 91,
     "metadata": {},
     "output_type": "execute_result"
    }
   ],
   "source": [
    "model.layers[1].get_weights()"
   ]
  },
  {
   "cell_type": "code",
   "execution_count": 92,
   "metadata": {},
   "outputs": [
    {
     "name": "stdout",
     "output_type": "stream",
     "text": [
      "63/63 [==============================] - 0s 1ms/step\n"
     ]
    },
    {
     "data": {
      "text/plain": [
       "array([[0.10364082],\n",
       "       [0.04257317],\n",
       "       [0.31076092],\n",
       "       ...,\n",
       "       [0.31076092],\n",
       "       [0.12698157],\n",
       "       [0.5239289 ]], dtype=float32)"
      ]
     },
     "execution_count": 92,
     "metadata": {},
     "output_type": "execute_result"
    }
   ],
   "source": [
    "Y_log=model.predict(X_train_trf)\n",
    "Y_log"
   ]
  },
  {
   "cell_type": "code",
   "execution_count": 93,
   "metadata": {},
   "outputs": [],
   "source": [
    "Y_pred= np.where(Y_log>0.5,1,0)"
   ]
  },
  {
   "cell_type": "code",
   "execution_count": 94,
   "metadata": {},
   "outputs": [
    {
     "data": {
      "text/plain": [
       "0.8035"
      ]
     },
     "execution_count": 94,
     "metadata": {},
     "output_type": "execute_result"
    }
   ],
   "source": [
    "from sklearn.metrics import accuracy_score\n",
    "accuracy_score(Y_pred,Y_train)"
   ]
  },
  {
   "cell_type": "code",
   "execution_count": 95,
   "metadata": {},
   "outputs": [
    {
     "data": {
      "text/plain": [
       "<keras.src.callbacks.History at 0x162ea3dd4b0>"
      ]
     },
     "execution_count": 95,
     "metadata": {},
     "output_type": "execute_result"
    }
   ],
   "source": [
    "history"
   ]
  },
  {
   "cell_type": "code",
   "execution_count": 96,
   "metadata": {},
   "outputs": [
    {
     "data": {
      "text/plain": [
       "[<matplotlib.lines.Line2D at 0x162ea408610>]"
      ]
     },
     "execution_count": 96,
     "metadata": {},
     "output_type": "execute_result"
    },
    {
     "data": {
      "image/png": "[encoded data removed]",
      "text/plain": [
       "<Figure size 640x480 with 1 Axes>"
      ]
     },
     "metadata": {},
     "output_type": "display_data"
    }
   ],
   "source": [
    "plt.plot(history.history['loss'])"
   ]
  },
  {
   "cell_type": "code",
   "execution_count": null,
   "metadata": {},
   "outputs": [],
   "source": [
    "import pickle as pk\n",
    "pk.dump(df,open('churn.pkl','wb'))"
   ]
  }
 ],
 "metadata": {
  "kernelspec": {
   "display_name": "Python 3",
   "language": "python",
   "name": "python3"
  },
  "language_info": {
   "codemirror_mode": {
    "name": "ipython",
    "version": 3
   },
   "file_extension": ".py",
   "mimetype": "text/x-python",
   "name": "python",
   "nbconvert_exporter": "python",
   "pygments_lexer": "ipython3",
   "version": "3.10.4"
  }
 },
 "nbformat": 4,
 "nbformat_minor": 2
}
